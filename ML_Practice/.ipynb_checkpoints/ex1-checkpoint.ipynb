{
 "cells": [
  {
   "cell_type": "code",
   "execution_count": 10,
   "id": "2e95057a-91dc-4ca3-8ccb-05355ebf67ee",
   "metadata": {},
   "outputs": [
    {
     "name": "stdout",
     "output_type": "stream",
     "text": [
      "       Apple\n",
      "Price      2\n"
     ]
    }
   ],
   "source": [
    "import pandas as pd\n",
    "ex1 = pd.DataFrame({'Apple': [2]}, index = ['Price'])\n",
    "print(ex1)"
   ]
  },
  {
   "cell_type": "code",
   "execution_count": 15,
   "id": "80aa4820-83ba-444a-9570-229436c3449d",
   "metadata": {},
   "outputs": [
    {
     "name": "stdout",
     "output_type": "stream",
     "text": [
      "0    1\n",
      "1    2\n",
      "2    3\n",
      "3    4\n",
      "dtype: int64\n"
     ]
    }
   ],
   "source": [
    "ex2 = pd.Series([1, 2, 3, 4], index = [i for i in range(4, 8)])\n",
    "print(ex2)"
   ]
  },
  {
   "cell_type": "code",
   "execution_count": null,
   "id": "f02dea56-6168-4dd5-a356-b667bbe71017",
   "metadata": {},
   "outputs": [],
   "source": []
  }
 ],
 "metadata": {
  "kernelspec": {
   "display_name": "Python 3 (ipykernel)",
   "language": "python",
   "name": "python3"
  },
  "language_info": {
   "codemirror_mode": {
    "name": "ipython",
    "version": 3
   },
   "file_extension": ".py",
   "mimetype": "text/x-python",
   "name": "python",
   "nbconvert_exporter": "python",
   "pygments_lexer": "ipython3",
   "version": "3.9.7"
  }
 },
 "nbformat": 4,
 "nbformat_minor": 5
}
